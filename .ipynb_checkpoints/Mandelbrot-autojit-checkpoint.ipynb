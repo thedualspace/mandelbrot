{
 "cells": [
  {
   "cell_type": "code",
   "execution_count": 8,
   "metadata": {},
   "outputs": [],
   "source": [
    "import numpy as np\n",
    "import matplotlib.pyplot as plt\n",
    "from tqdm import tqdm\n",
    "import scipy.misc as smp\n",
    "from PIL import Image"
   ]
  },
  {
   "cell_type": "code",
   "execution_count": 9,
   "metadata": {},
   "outputs": [],
   "source": [
    "resolution = (560,320)\n",
    "\n",
    "centre = (0.26,0)\n",
    "zoom = 15\n",
    "xmin = centre[0] - (3.5/(2*zoom))\n",
    "xmax = centre[0] + (3.5/(2*zoom))\n",
    "\n",
    "ymin = centre[1] - (2/(2*zoom))\n",
    "ymax = centre[1] + (2/(2*zoom))\n",
    "\n",
    "X = np.linspace(xmin, xmax, num=resolution[0])\n",
    "Y = np.linspace(ymin, ymax, num=resolution[1])\n",
    "coordinates = [(i, j) for j in Y for i in X]"
   ]
  },
  {
   "cell_type": "code",
   "execution_count": 10,
   "metadata": {},
   "outputs": [
    {
     "name": "stderr",
     "output_type": "stream",
     "text": [
      "100%|█████████████████████████████████████████████████████████████████████████| 179200/179200 [03:15<00:00, 916.09it/s]\n"
     ]
    }
   ],
   "source": [
    "iter_array = []\n",
    "for point in tqdm(coordinates):\n",
    "    Px = point[0]\n",
    "    Py = point[1]\n",
    "    x = 0\n",
    "    y = 0\n",
    "    iteration = 0\n",
    "    max_iteration = 1000\n",
    "    while( ((x*x) + (y*y)) <= (2*2) and iteration < max_iteration):\n",
    "        temporary_x = (x*x) - (y*y) + Px\n",
    "        y = 2*x*y + Py\n",
    "        x = temporary_x\n",
    "        iteration += 1\n",
    "    iter_array.append(iteration)"
   ]
  },
  {
   "cell_type": "code",
   "execution_count": 12,
   "metadata": {
    "scrolled": true
   },
   "outputs": [
    {
     "name": "stdout",
     "output_type": "stream",
     "text": [
      "(320, 560)\n"
     ]
    },
    {
     "ename": "AttributeError",
     "evalue": "'numpy.ndarray' object has no attribute 'show'",
     "output_type": "error",
     "traceback": [
      "\u001b[1;31m---------------------------------------------------------------------------\u001b[0m",
      "\u001b[1;31mAttributeError\u001b[0m                            Traceback (most recent call last)",
      "\u001b[1;32m<ipython-input-12-7f7200a934d4>\u001b[0m in \u001b[0;36m<module>\u001b[1;34m\u001b[0m\n\u001b[0;32m      9\u001b[0m \u001b[1;33m\u001b[0m\u001b[0m\n\u001b[0;32m     10\u001b[0m \u001b[1;31m#img = Image.fromarray( coloured )       # Create a PIL image\u001b[0m\u001b[1;33m\u001b[0m\u001b[1;33m\u001b[0m\u001b[1;33m\u001b[0m\u001b[0m\n\u001b[1;32m---> 11\u001b[1;33m \u001b[0mcoloured\u001b[0m\u001b[1;33m.\u001b[0m\u001b[0mshow\u001b[0m\u001b[1;33m(\u001b[0m\u001b[1;33m)\u001b[0m\u001b[1;33m\u001b[0m\u001b[1;33m\u001b[0m\u001b[0m\n\u001b[0m",
      "\u001b[1;31mAttributeError\u001b[0m: 'numpy.ndarray' object has no attribute 'show'"
     ]
    }
   ],
   "source": [
    "#Greyscale Image\n",
    "Gy = np.array(iter_array)\n",
    "Greyscale = np.reshape(Gy,(resolution[1],resolution[0]))\n",
    "print(Greyscale.shape)\n",
    "\n",
    "#Coloured Image with  colourmap\n",
    "cm = plt.get_cmap('gist_rainbow')\n",
    "coloured = cm(Greyscale)\n",
    "\n",
    "img = Image.fromarray( coloured )       # Create a PIL image\n",
    "img.show()"
   ]
  },
  {
   "cell_type": "code",
   "execution_count": 16,
   "metadata": {},
   "outputs": [],
   "source": [
    "Image.fromarray((coloured[:, :, :3] * 255).astype(np.uint8)).save('test.png')"
   ]
  },
  {
   "cell_type": "code",
   "execution_count": 5,
   "metadata": {},
   "outputs": [],
   "source": [
    "#Save image\n",
    "out = img.convert(\"L\")\n",
    "out.save('greyscale_zoom_320.png')"
   ]
  },
  {
   "cell_type": "code",
   "execution_count": 20,
   "metadata": {},
   "outputs": [
    {
     "data": {
      "text/plain": [
       "array([[[1.        , 0.        , 0.75      , 1.        ],\n",
       "        [1.        , 0.        , 0.75      , 1.        ],\n",
       "        [1.        , 0.        , 0.75      , 1.        ],\n",
       "        ...,\n",
       "        [1.        , 0.02861685, 0.        , 1.        ],\n",
       "        [1.        , 0.02861685, 0.        , 1.        ],\n",
       "        [1.        , 0.00741918, 0.        , 1.        ]],\n",
       "\n",
       "       [[1.        , 0.        , 0.75      , 1.        ],\n",
       "        [1.        , 0.        , 0.75      , 1.        ],\n",
       "        [1.        , 0.        , 0.75      , 1.        ],\n",
       "        ...,\n",
       "        [1.        , 0.02861685, 0.        , 1.        ],\n",
       "        [1.        , 0.00741918, 0.        , 1.        ],\n",
       "        [1.        , 0.00741918, 0.        , 1.        ]],\n",
       "\n",
       "       [[1.        , 0.        , 0.75      , 1.        ],\n",
       "        [1.        , 0.        , 0.75      , 1.        ],\n",
       "        [1.        , 0.        , 0.75      , 1.        ],\n",
       "        ...,\n",
       "        [1.        , 0.02861685, 0.        , 1.        ],\n",
       "        [1.        , 0.00741918, 0.        , 1.        ],\n",
       "        [1.        , 0.00741918, 0.        , 1.        ]],\n",
       "\n",
       "       ...,\n",
       "\n",
       "       [[1.        , 0.        , 0.75      , 1.        ],\n",
       "        [1.        , 0.        , 0.75      , 1.        ],\n",
       "        [1.        , 0.        , 0.75      , 1.        ],\n",
       "        ...,\n",
       "        [1.        , 0.02861685, 0.        , 1.        ],\n",
       "        [1.        , 0.00741918, 0.        , 1.        ],\n",
       "        [1.        , 0.00741918, 0.        , 1.        ]],\n",
       "\n",
       "       [[1.        , 0.        , 0.75      , 1.        ],\n",
       "        [1.        , 0.        , 0.75      , 1.        ],\n",
       "        [1.        , 0.        , 0.75      , 1.        ],\n",
       "        ...,\n",
       "        [1.        , 0.02861685, 0.        , 1.        ],\n",
       "        [1.        , 0.00741918, 0.        , 1.        ],\n",
       "        [1.        , 0.00741918, 0.        , 1.        ]],\n",
       "\n",
       "       [[1.        , 0.        , 0.75      , 1.        ],\n",
       "        [1.        , 0.        , 0.75      , 1.        ],\n",
       "        [1.        , 0.        , 0.75      , 1.        ],\n",
       "        ...,\n",
       "        [1.        , 0.02861685, 0.        , 1.        ],\n",
       "        [1.        , 0.02861685, 0.        , 1.        ],\n",
       "        [1.        , 0.00741918, 0.        , 1.        ]]])"
      ]
     },
     "execution_count": 20,
     "metadata": {},
     "output_type": "execute_result"
    }
   ],
   "source": [
    "coloured"
   ]
  },
  {
   "cell_type": "code",
   "execution_count": 5,
   "metadata": {},
   "outputs": [
    {
     "name": "stdout",
     "output_type": "stream",
     "text": [
      "0.14333333333333334 0.3766666666666667 -0.06666666666666667 0.06666666666666667\n"
     ]
    }
   ],
   "source": [
    "xmin = centre[0] - (3.5/(2*zoom))\n",
    "xmax = centre[0] + (3.5/(2*zoom))\n",
    "\n",
    "ymin = centre[1] - (2/(2*zoom))\n",
    "ymax = centre[1] + (2/(2*zoom))\n",
    "\n",
    "print(xmin, xmax, ymin, ymax)"
   ]
  },
  {
   "cell_type": "code",
   "execution_count": 2,
   "metadata": {},
   "outputs": [
    {
     "data": {
      "text/plain": [
       "68227450827.50151"
      ]
     },
     "execution_count": 2,
     "metadata": {},
     "output_type": "execute_result"
    }
   ],
   "source": [
    "3.5/ 0.000000000051299"
   ]
  },
  {
   "cell_type": "code",
   "execution_count": null,
   "metadata": {},
   "outputs": [],
   "source": []
  }
 ],
 "metadata": {
  "kernelspec": {
   "display_name": "Python 3",
   "language": "python",
   "name": "python3"
  },
  "language_info": {
   "codemirror_mode": {
    "name": "ipython",
    "version": 3
   },
   "file_extension": ".py",
   "mimetype": "text/x-python",
   "name": "python",
   "nbconvert_exporter": "python",
   "pygments_lexer": "ipython3",
   "version": "3.7.1"
  }
 },
 "nbformat": 4,
 "nbformat_minor": 2
}
