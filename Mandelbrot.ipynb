{
 "cells": [
  {
   "cell_type": "code",
   "execution_count": 2,
   "metadata": {},
   "outputs": [],
   "source": [
    "import numpy as np\n",
    "import matplotlib.pyplot as plt\n",
    "from tqdm import tqdm\n",
    "import scipy.misc as smp\n",
    "from PIL import Image"
   ]
  },
  {
   "cell_type": "code",
   "execution_count": 3,
   "metadata": {},
   "outputs": [],
   "source": [
    "resolution = (1920,1080)\n",
    "\n",
    "centre = (-0.743643887037151,0.131825904205330)\n",
    "zoom = 68227450827.50151\n",
    "xmin = centre[0] - (3.5/(2*zoom))\n",
    "xmax = centre[0] + (3.5/(2*zoom))\n",
    "\n",
    "ymin = centre[1] - (2/(2*zoom))\n",
    "ymax = centre[1] + (2/(2*zoom))\n",
    "\n",
    "X = np.linspace(xmin, xmax, num=resolution[0])\n",
    "Y = np.linspace(ymin, ymax, num=resolution[1])\n",
    "coordinates = [(i, j) for j in Y for i in X]"
   ]
  },
  {
   "cell_type": "code",
   "execution_count": 3,
   "metadata": {},
   "outputs": [
    {
     "name": "stderr",
     "output_type": "stream",
     "text": [
      "100%|█████████████████████████████████████████████████████████████████████| 2073600/2073600 [1:03:02<00:00, 548.26it/s]\n"
     ]
    }
   ],
   "source": [
    "iter_array = []\n",
    "for point in tqdm(coordinates):\n",
    "    Px = point[0]\n",
    "    Py = point[1]\n",
    "    x = 0\n",
    "    y = 0\n",
    "    iteration = 0\n",
    "    max_iteration = 1000\n",
    "    while( ((x*x) + (y*y)) <= (2*2) and iteration < max_iteration):\n",
    "        temporary_x = (x*x) - (y*y) + Px\n",
    "        y = 2*x*y + Py\n",
    "        x = temporary_x\n",
    "        iteration += 1\n",
    "    iter_array.append(iteration)"
   ]
  },
  {
   "cell_type": "code",
   "execution_count": 4,
   "metadata": {
    "scrolled": true
   },
   "outputs": [
    {
     "ename": "NameError",
     "evalue": "name 'iter_array' is not defined",
     "output_type": "error",
     "traceback": [
      "\u001b[1;31m---------------------------------------------------------------------------\u001b[0m",
      "\u001b[1;31mNameError\u001b[0m                                 Traceback (most recent call last)",
      "\u001b[1;32m<ipython-input-4-0b04e2153071>\u001b[0m in \u001b[0;36m<module>\u001b[1;34m\u001b[0m\n\u001b[0;32m      1\u001b[0m \u001b[1;31m#Greyscale Image\u001b[0m\u001b[1;33m\u001b[0m\u001b[1;33m\u001b[0m\u001b[1;33m\u001b[0m\u001b[0m\n\u001b[1;32m----> 2\u001b[1;33m \u001b[0mGy\u001b[0m \u001b[1;33m=\u001b[0m \u001b[0mnp\u001b[0m\u001b[1;33m.\u001b[0m\u001b[0marray\u001b[0m\u001b[1;33m(\u001b[0m\u001b[0miter_array\u001b[0m\u001b[1;33m)\u001b[0m\u001b[1;33m\u001b[0m\u001b[1;33m\u001b[0m\u001b[0m\n\u001b[0m\u001b[0;32m      3\u001b[0m \u001b[0mGreyscale\u001b[0m \u001b[1;33m=\u001b[0m \u001b[0mnp\u001b[0m\u001b[1;33m.\u001b[0m\u001b[0mreshape\u001b[0m\u001b[1;33m(\u001b[0m\u001b[0mGy\u001b[0m\u001b[1;33m,\u001b[0m\u001b[1;33m(\u001b[0m\u001b[0mresolution\u001b[0m\u001b[1;33m[\u001b[0m\u001b[1;36m1\u001b[0m\u001b[1;33m]\u001b[0m\u001b[1;33m,\u001b[0m\u001b[0mresolution\u001b[0m\u001b[1;33m[\u001b[0m\u001b[1;36m0\u001b[0m\u001b[1;33m]\u001b[0m\u001b[1;33m)\u001b[0m\u001b[1;33m)\u001b[0m\u001b[1;33m\u001b[0m\u001b[1;33m\u001b[0m\u001b[0m\n\u001b[0;32m      4\u001b[0m \u001b[0mprint\u001b[0m\u001b[1;33m(\u001b[0m\u001b[0mGreyscale\u001b[0m\u001b[1;33m.\u001b[0m\u001b[0mshape\u001b[0m\u001b[1;33m)\u001b[0m\u001b[1;33m\u001b[0m\u001b[1;33m\u001b[0m\u001b[0m\n\u001b[0;32m      5\u001b[0m \u001b[1;33m\u001b[0m\u001b[0m\n",
      "\u001b[1;31mNameError\u001b[0m: name 'iter_array' is not defined"
     ]
    }
   ],
   "source": [
    "#Greyscale Image\n",
    "Gy = np.array(iter_array)\n",
    "Greyscale = np.reshape(Gy,(resolution[1],resolution[0]))\n",
    "print(Greyscale.shape)\n",
    "\n",
    "#Coloured Image with colourmap\n",
    "cm = plt.get_cmap('gist_rainbow')\n",
    "coloured = cm(Greyscale)\n",
    "\n",
    "img = Image.fromarray( Greyscale )       # Create a PIL image\n",
    "img.show()"
   ]
  },
  {
   "cell_type": "code",
   "execution_count": null,
   "metadata": {},
   "outputs": [],
   "source": [
    "Image.fromarray((coloured[:, :, :3] * 255).astype(np.uint8)).save('test.png')"
   ]
  },
  {
   "cell_type": "code",
   "execution_count": null,
   "metadata": {},
   "outputs": [],
   "source": [
    "#Save image\n",
    "out = img.convert(\"L\")\n",
    "out.save('greyscale_zoom_320.png')"
   ]
  },
  {
   "cell_type": "code",
   "execution_count": null,
   "metadata": {},
   "outputs": [],
   "source": [
    "# [1:03:02<00:00, 548.26it/s] 1080p \n",
    "#centre = (-0.743643887037151,0.131825904205330)\n",
    "#zoom = 68227450827.50151\n",
    "#max_iterations = 100000"
   ]
  }
 ],
 "metadata": {
  "kernelspec": {
   "display_name": "Python 3",
   "language": "python",
   "name": "python3"
  },
  "language_info": {
   "codemirror_mode": {
    "name": "ipython",
    "version": 3
   },
   "file_extension": ".py",
   "mimetype": "text/x-python",
   "name": "python",
   "nbconvert_exporter": "python",
   "pygments_lexer": "ipython3",
   "version": "3.7.4"
  }
 },
 "nbformat": 4,
 "nbformat_minor": 2
}
