{
 "cells": [
  {
   "cell_type": "code",
   "execution_count": 1,
   "metadata": {},
   "outputs": [],
   "source": [
    "import os\n",
    "import numpy as np\n",
    "%matplotlib inline\n",
    "import matplotlib.pyplot as plt\n",
    "from tqdm import tqdm\n",
    "import scipy.misc as smp\n",
    "from PIL import Image\n",
    "import numba\n",
    "from numba import njit, vectorize, cuda\n",
    "from timeit import default_timer as timer\n",
    "from pylab import imshow, show\n"
   ]
  },
  {
   "cell_type": "code",
   "execution_count": 130,
   "metadata": {},
   "outputs": [],
   "source": [
    "resolution = (1920,1080)\n",
    "J_c = (-0.0452407411, 0.9868162204352258)\n",
    "J_z = 68227450827.50151\n",
    "R = 2\n",
    "#J_c=(-0.07236622437275798, -0.6651384658304307)\n",
    "#J_z = 2.9763140575e+05\n",
    "\n",
    "@njit\n",
    "def Mandelbrot(x, y, max_iterations):\n",
    "    c = complex(x,y)\n",
    "    z = 0.0j\n",
    "    for i in range(max_iterations):\n",
    "        z = z*z + c\n",
    "        if (z.real*z.real + z.imag*z.imag) >= (R**2):\n",
    "            return i\n",
    "    \n",
    "    return max_iterations\n",
    "\n",
    "mandel_gpu = cuda.jit(device=True)(Mandelbrot)\n",
    "\n",
    "@cuda.jit\n",
    "def render_kernel(centre_x, centre_y, zoom, max_iter, rendergrid):\n",
    "    xmin = centre_x - (3.5/(2*zoom))\n",
    "    xmax = centre_x + (3.5/(2*zoom))\n",
    "    ymin = centre_y - (2/(2*zoom))\n",
    "    ymax = centre_y + (2/(2*zoom))\n",
    "\n",
    "    pixel_width = (xmax-xmin)/resolution[0]\n",
    "    pixel_height = (ymax-ymin)/resolution[1]\n",
    "    \n",
    "    startX, startY = cuda.grid(2)\n",
    "    gridX = cuda.gridDim.x * cuda.blockDim.x\n",
    "    gridY = cuda.gridDim.y * cuda.blockDim.y\n",
    "\n",
    "    for i in range(startX, resolution[0], gridX):\n",
    "        real = xmin + i*pixel_width\n",
    "        for j in range(startY, resolution[1], gridY):\n",
    "            imaginary = ymin + j*pixel_height\n",
    "            colour = mandel_gpu(real,imaginary, max_iter)\n",
    "            rendergrid[j,i] = colour"
   ]
  },
  {
   "cell_type": "code",
   "execution_count": 131,
   "metadata": {},
   "outputs": [
    {
     "name": "stdout",
     "output_type": "stream",
     "text": [
      "Mandelbrot created on GPU in 3.307532 s\n"
     ]
    },
    {
     "data": {
      "image/png": "[encoded data removed]",
      "text/plain": [
       "<Figure size 432x288 with 1 Axes>"
      ]
     },
     "metadata": {
      "needs_background": "light"
     },
     "output_type": "display_data"
    }
   ],
   "source": [
    "grendergrid = np.zeros((resolution[1], resolution[0]), dtype = np.uint8)\n",
    "blockdim = (32,8)\n",
    "griddim = (32,16)\n",
    "\n",
    "start = timer()\n",
    "d_rendergrid = cuda.to_device(grendergrid)\n",
    "render_kernel[griddim, blockdim](J_c[0], J_c[1], 2000000000000, 10000, d_rendergrid) \n",
    "d_rendergrid.to_host()\n",
    "dt = timer() - start\n",
    "\n",
    "print(\"Mandelbrot created on GPU in %f s\" % dt)\n",
    "\n",
    "imshow(grendergrid)\n",
    "show()"
   ]
  },
  {
   "cell_type": "code",
   "execution_count": 160,
   "metadata": {},
   "outputs": [
    {
     "name": "stderr",
     "output_type": "stream",
     "text": [
      "100%|████████████████████████████████████████████████████████████████████████████████████| 1/1 [00:00<00:00,  8.55it/s]\n"
     ]
    }
   ],
   "source": [
    "frames = []\n",
    "for i in tqdm(range(1)):\n",
    "    grendergrid = np.zeros((resolution[1], resolution[0]), dtype = np.uint8)\n",
    "    d_rendergrid = cuda.to_device(grendergrid)\n",
    "    render_kernel[griddim, blockdim](J_c[0], J_c[1], 5000000, 100000, d_rendergrid) \n",
    "    d_rendergrid.to_host()\n",
    "    #img = Image.fromarray( grendergrid )       # Create a PIL image\n",
    "    frames.append(grendergrid)"
   ]
  },
  {
   "cell_type": "code",
   "execution_count": 161,
   "metadata": {},
   "outputs": [],
   "source": [
    "cm = plt.get_cmap('hot')\n",
    "images = []\n",
    "for i in range(len(frames)):\n",
    "    colored = cm( frames[i] )\n",
    "    img = Image.fromarray((colored[:, :, :3] * 255).astype(np.uint8)).save('psuedojulia' + str(i) + '.png')\n",
    "    #images.append(img)\n",
    "#to be done:\n",
    "#colourmap, fix whatever the fuck made the 16bit images mostly black \n",
    "#(cyclic colourmap e.g rainbow will rehighlight close interation count. Black to white is obscuring the patterns).\n",
    "#Figure out optimal thread and block size."
   ]
  },
  {
   "cell_type": "code",
   "execution_count": 80,
   "metadata": {},
   "outputs": [
    {
     "ename": "IndexError",
     "evalue": "list index out of range",
     "output_type": "error",
     "traceback": [
      "\u001b[1;31m---------------------------------------------------------------------------\u001b[0m",
      "\u001b[1;31mIndexError\u001b[0m                                Traceback (most recent call last)",
      "\u001b[1;32m<ipython-input-80-42ccb33ff640>\u001b[0m in \u001b[0;36m<module>\u001b[1;34m\u001b[0m\n\u001b[1;32m----> 1\u001b[1;33m \u001b[0mimages\u001b[0m\u001b[1;33m[\u001b[0m\u001b[1;36m0\u001b[0m\u001b[1;33m]\u001b[0m\u001b[1;33m.\u001b[0m\u001b[0msave\u001b[0m\u001b[1;33m(\u001b[0m\u001b[1;34m'Colour_Zoom_afmhot.gif'\u001b[0m\u001b[1;33m,\u001b[0m \u001b[0mformat\u001b[0m\u001b[1;33m=\u001b[0m\u001b[1;34m'GIF'\u001b[0m\u001b[1;33m,\u001b[0m \u001b[0mappend_images\u001b[0m\u001b[1;33m=\u001b[0m\u001b[0mimages\u001b[0m\u001b[1;33m[\u001b[0m\u001b[1;36m1\u001b[0m\u001b[1;33m:\u001b[0m\u001b[1;33m]\u001b[0m\u001b[1;33m,\u001b[0m \u001b[0msave_all\u001b[0m\u001b[1;33m=\u001b[0m\u001b[1;32mTrue\u001b[0m\u001b[1;33m,\u001b[0m \u001b[0mduration\u001b[0m\u001b[1;33m=\u001b[0m\u001b[1;36m175\u001b[0m\u001b[1;33m,\u001b[0m \u001b[0mloop\u001b[0m\u001b[1;33m=\u001b[0m\u001b[1;36m0\u001b[0m\u001b[1;33m,\u001b[0m \u001b[0mquality\u001b[0m\u001b[1;33m=\u001b[0m\u001b[1;36m20\u001b[0m\u001b[1;33m,\u001b[0m \u001b[0moptimize\u001b[0m\u001b[1;33m=\u001b[0m\u001b[1;32mTrue\u001b[0m\u001b[1;33m)\u001b[0m\u001b[1;33m\u001b[0m\u001b[1;33m\u001b[0m\u001b[0m\n\u001b[0m",
      "\u001b[1;31mIndexError\u001b[0m: list index out of range"
     ]
    }
   ],
   "source": [
    "images[0].save('Colour_Zoom_afmhot.gif', format='GIF', append_images=images[1:], save_all=True, duration=175, loop=0, quality=20, optimize=True)"
   ]
  },
  {
   "cell_type": "code",
   "execution_count": null,
   "metadata": {},
   "outputs": [],
   "source": [
    "count+=1\n",
    "cm = plt.get_cmap('ocean_r')\n",
    "colored = cm( frames[2] )\n",
    "Image.fromarray((colored[:, :, :3] * 255).astype(np.uint8)).save(str(count)+' test.png')\n",
    "\n",
    "# But we want to convert to RGB in uint8 and save it:\n"
   ]
  },
  {
   "cell_type": "code",
   "execution_count": null,
   "metadata": {},
   "outputs": [],
   "source": [
    "frames = []\n",
    "cm = plt.get_cmap('ocean_r')\n",
    "for i in tqdm(range(75,120)):\n",
    "    grendergrid = np.zeros((resolution[1], resolution[0]), dtype = np.uint8)\n",
    "    d_rendergrid = cuda.to_device(grendergrid)\n",
    "    render_kernel[griddim, blockdim](J_c[0], J_c[1], 2**(i/3), 100000, d_rendergrid) \n",
    "    d_rendergrid.to_host()\n",
    "    colored = cm( grendergrid )\n",
    "    Image.fromarray((colored[:, :, :3] * 255).astype(np.uint8)).save('test' + str(i) + '.png')"
   ]
  },
  {
   "cell_type": "code",
   "execution_count": null,
   "metadata": {},
   "outputs": [],
   "source": [
    "np.log2(65650)"
   ]
  }
 ],
 "metadata": {
  "kernelspec": {
   "display_name": "Python 3",
   "language": "python",
   "name": "python3"
  },
  "language_info": {
   "codemirror_mode": {
    "name": "ipython",
    "version": 3
   },
   "file_extension": ".py",
   "mimetype": "text/x-python",
   "name": "python",
   "nbconvert_exporter": "python",
   "pygments_lexer": "ipython3",
   "version": "3.7.4"
  }
 },
 "nbformat": 4,
 "nbformat_minor": 2
}
